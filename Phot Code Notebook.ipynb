{
 "cells": [
  {
   "cell_type": "markdown",
   "id": "fabulous-publication",
   "metadata": {},
   "source": [
    "# Introduction\n",
    "\n",
    "\n",
    "Autophot is used to create AGN lightcurves from multiple telescopes to then be inter-calibrated using pyCALI. It is intended that the user have control with modular options and seperated functions.  "
   ]
  },
  {
   "cell_type": "markdown",
   "id": "6f0e9c25",
   "metadata": {},
   "source": [
    "# Installations"
   ]
  },
  {
   "cell_type": "markdown",
   "id": "bibliographic-generator",
   "metadata": {},
   "source": [
    "I would not recommend using a windows system for some certain programs/packages that are required for the later part of the process. That said general photometry can easily be performed with any python 3 installation such as with conda. I would recommend using a linux distro especially for compatibility with pyCALI. If you do not have a linux distro installed a good alternative is a Virtual Machine (VM). VirtualBox is a great virtual machine program.\n",
    "\n",
    "When setting up your VirtualBox VM it can be any linux distro, but it is best to simply use the latest stable ubuntu. Make sure to set your memory settings to an adequate level for the VM. \n",
    "\n",
    "## Anaconda\n",
    "To start install the open source program Anaconda (https://www.anaconda.com/products/individual) onto your machine, if you do not have it, and create a **python 3** installation. \n",
    "\n",
    "### Environment\n",
    "\n",
    "Here is a link to conda environment information that I am pulling from https://conda.io/projects/conda/en/latest/user-guide/tasks/manage-environments.html\n",
    "\n",
    "Anaconda has a nice feature of allowing for seperate installations of packages with environments, this is handy, because with constant updates to packages certain dependencies may fail when updated then your whole code doesn't work. Environment keeps the packages together to work together.\n",
    "\n",
    "You can create an environment with \n",
    "\n",
    "conda env create enviro_name\n",
    "\n",
    "You can check if it was created\n",
    "\n",
    "conda env list\n",
    "\n",
    "---\n",
    "## pyCALI\n",
    "\n",
    "https://pycali.readthedocs.io/en/latest/\n",
    "\n",
    "https://github.com/LiyrAstroph/PyCALI\n",
    "\n",
    "Here is the github link to pyCALI, there are instructions and documentation included. I will go through the major steps and various installations needed to get pyCALI running later. \n",
    "\n",
    "\n",
    "---"
   ]
  },
  {
   "cell_type": "markdown",
   "id": "ceramic-vampire",
   "metadata": {},
   "source": [
    "To load in the pyautophot package"
   ]
  },
  {
   "cell_type": "code",
   "execution_count": 1,
   "id": "severe-czech",
   "metadata": {
    "ExecuteTime": {
     "end_time": "2024-10-15T20:47:40.896226Z",
     "start_time": "2024-10-15T20:47:39.401724Z"
    }
   },
   "outputs": [
    {
     "name": "stdout",
     "output_type": "stream",
     "text": [
      "Hello World!\n"
     ]
    }
   ],
   "source": [
    "from pyautophot import * "
   ]
  },
  {
   "cell_type": "code",
   "execution_count": 2,
   "id": "buried-network",
   "metadata": {
    "ExecuteTime": {
     "end_time": "2024-10-15T20:47:41.828276Z",
     "start_time": "2024-10-15T20:47:41.826095Z"
    }
   },
   "outputs": [],
   "source": [
    "# this is to quiet certain astropy warnings that come out as the code runs (they are usually about deprecated functions)\n",
    "import warnings"
   ]
  },
  {
   "cell_type": "markdown",
   "id": "selected-frontier",
   "metadata": {},
   "source": [
    "Before we get into any use of the actual programs there is a short laundry list that you should check in order for this to run smoothly "
   ]
  },
  {
   "cell_type": "markdown",
   "id": "dfbc20b4",
   "metadata": {},
   "source": [
    "# Checking Your Data"
   ]
  },
  {
   "cell_type": "markdown",
   "id": "vital-option",
   "metadata": {},
   "source": [
    "The package has been made with images from multiple telescopes in mind. A general method of organizing data is creating a directory that contains the images from each different telescope which may look like.. \n",
    "- Telescopes\n",
    "  - LCO\n",
    "    - g\n",
    "    - r\n",
    "    - i \n",
    "    - z\n",
    "  - Zowada\n",
    "    - u\n",
    "    - g\n",
    "    - r\n",
    "    \n",
    "This is assuming that all the images have been through some reduction pipeline (flat fielded, dark subtraction, etc.)\n",
    "\n",
    "You will also need the following for each telescope, which are typically found in the FITS headers (and are static variables)\n",
    "- Name (your chosen label)\n",
    "- gain (in DN/e-)\n",
    "- read noise (in e-)\n",
    "- pixel scale (in arcsec/pix)\n",
    "\n",
    "Additionally you will need a list of RA and DEC in degrees for the AGN of interest and RA and DEC of comparisons stars to correct for the differences in nights imaging. Down below you'll find descriptions and examples of how to use the functions called. "
   ]
  },
  {
   "cell_type": "markdown",
   "id": "73ed35f3",
   "metadata": {},
   "source": [
    "# Functions\\Callables "
   ]
  },
  {
   "cell_type": "markdown",
   "id": "baking-shadow",
   "metadata": {},
   "source": [
    "\n",
    "\n",
    "\n",
    "- **phot**(*directory=None,outdir=None,coords=None,img_filter=None, target_name=None, snr_cutoff=0, telname=None, rdnoise=0., pixsc=1., gain=1., rad=[5.,15.,20.,12.], sky_method='DAOphot', sky_hist=False, img_hist=False, renew=True, naver_on=False, centroid_show=False, c_func='com'*)\n",
    "\n",
    "  Performs photometry on a directory of FITS files given a set of comparison stars and AGN. Calls on astropy's photutils package primarily. \n",
    "  - **directory**: *str* instance\\\n",
    "    The file directory where the images of a single filter are found\n",
    "  - **output_directory**: *str* instance\\\n",
    "    Where all files produces will be stored.\n",
    "  - **coordinates**: *array_like* instance\\\n",
    "    The AGN, and comparison star RA,DEC given as a list/array\n",
    "  - **img_filter**: *str* instance\\\n",
    "    The image filter of said image directory\n",
    "  - **target_name**: *str* instance\\\n",
    "    The AGN's name\n",
    "  - **SN_cutoff**: *float* instance\\\n",
    "    A signal-to-noise ratio cutoff for photometry, default value is set to 0 which will keep all non-negative photometric measurements.\n",
    "  - **telname**: *str* instance\\\n",
    "    The telescopes label that you choose, for LCO telescopes use lco as the label as lco always has specific headers that can be used.\n",
    "  - **rdnoise**: *float* instance\\ \n",
    "    Readnoise of the telescope given in e- units, generally it can be found in the header, but not always. If you are using the lco label you do not need to input this.\n",
    "  - **pixsc**: *float* instance\\\n",
    "    Pixel scale of the telescope in units of arcsec/pix, similarly to read noise it may be found in the header. If you are using the lco label you do not need to input this.\n",
    "  - **gain**: *float* instance\\\n",
    "    Gain of the telescope in units of DN/e-. If you are using the lco label you do not need to input this.\n",
    "  - **rad**: *array_like* instance\\\n",
    "    An array of arcsecond values to be used for the aperture, inner and outer annulus, and sky box in the photometry. The sky box is the size of box that will be used to find the centroid of an object.\n",
    "  - **sky_method**: *{'DAOphot','default'}, optional*\\ \n",
    "    There are currently two methods for sky background estimation, one is an annulus median, the second is similar to the DAOphot sky mmm.pro method.\n",
    "      - 'DAOphot': 3*median - 2*mean if mean > median\n",
    "      - 'clipped media': 3-sigma clipped median\n",
    "  - **sky_hist**: *Boolean* instance, optional\\\n",
    "    A simple diagnostic plot that will show a histogram of the sky annulus ring's pixel values.\n",
    "  - **img_hist**: *Boolean* instance, optional\\\n",
    "    Like sky_hist, but for the entire image, shown in log scale.\n",
    "  - **renew**: *Boolean* instance, optional\\\n",
    "    When set to False it will check if there exists an output file for the image it is currently working on and will skip it. This is useful when you are downloading images on a weekly/repeated basis and you need to run the photometry on only new images.\n",
    "  - **naver_on**: *Boolean* instance, optional\\\n",
    "    This is specific for images that have been averaged and need to have their uncertainty adjusted for said co-addition.\n",
    "  - **centroid_show**: *Boolean* instance, optional\\\n",
    "    Simple plot that will show the current image with centroids and intial RA DEC values inputted to ensure the centering is working.\n",
    "  - **MPC**: *dict* instance\\\n",
    "    Dictionary containg the Minor Planet Center (MPC) codes of telescopes being used (this dictionary may also be self-defined if certain observatories don't have codes). Ex. {'Hubble':'250','Faulkes North 2m':'F65'}, see https://minorplanetcenter.net/iau/lists/ObsCodesF.html for codes\n",
    "  - **c_func** *string* instance\\\n",
    "    Centroid function to be used for centering default is center of mass, uses Astropy centroiding library.\n",
    "      - 'com': center of mass\n",
    "      - '2dg': 2-dimensional gaussian\n",
    "  \n",
    "- **phot_to_one**(outdir,img_filter,coords)\n",
    " \n",
    "  Will go through the photometry csvs and create telescope and object specific files of the photometry. \n",
    "  - **outdir**: *str* instance\\\n",
    "    Where all files produces will be stored.\n",
    "  - **img_filter**: *str* instance\\\n",
    "    Image filter.\n",
    "  - **coords**: *array_like* instance\\\n",
    "    The AGN, and comparison star RA,DEC given as a list/array.\n",
    " \n",
    "- **scale_AGN**(outdir,img_filter,target_name,who=[],clean=False)\n",
    "\n",
    "  Takes the nightly scaling factors that are calculated through the fit() function and applies it to the AGN lightcurve and saves it.\n",
    "  - **outdir**: *str* instance\\\n",
    "    Where all files produces will be stored.\n",
    "  - **img_filter**: *str* instance\\\n",
    "    Image filter.\n",
    "  - **coords**: *array_like* instance\\\n",
    "    The AGN, and comparison star RA,DEC given as a list/array.\n",
    "  - **target_name** *string* instance\\\n",
    "    Name of AGN to be used for the filename.\n",
    "  - **who** *array_like* instance, optional\\\n",
    "    An MPC label of telescope(s) you want to apply the scaling too, if not specified scaling will be applied to all available telescopes.\n",
    "  - **clean** *Boolean* instance\\\n",
    "    Mister clean mister clean\n",
    "\n",
    "- **plot_scaled**(outdir,img_filter,target_name,cdict={},who=[],filename=False)\n",
    "\n",
    "- **plot_aligned**(outdir,img_filter,target_name,reference=None,cdict={},all_black=False)\n",
    "\n",
    "- **clean_lc**(outdir,img_filter)\n",
    "\n",
    "- **condense**(outdir,img_filter,who=[],delta=0.25)\n",
    "\n",
    "- **plot_condense**(outdir,img_filter,target_name,cdict={},mpc={},who={},multi=True,single=False,counts=False)\n",
    "\n",
    "- **excess_var**(outdir,img_filter,starlist,who=[])\n",
    "\n",
    "- **cali_format**(outdir,flt,target_name,reference=None,condense=True,pycali_datadir=None,raw=False,mjd=False)\n",
    "\n",
    "- **fit**(outdir,coords,img_filter,who=[])\n",
    "\n",
    "  A chi squared minimization routine to find the optimal scale factors for star normalization using the set of comparison stars. Scale is telescope specific and will be saved in a csv. \n",
    "  - **outdir**: *str* instance\\\n",
    "    Where all files produces will be stored.\n",
    "  - **coords**: The AGN, and comparison star RA,DEC given as a list/array\n",
    "  - **img_filter**: *str* instance\\\n",
    "    Image filter to perform the fit on.\n",
    "  - **who**: *array_like* instance, optional\\\n",
    "    For use if you want to only perform the fitting on specific telescopes using the user defined label names.\n",
    "  \n",
    "- **star_norm**(outdir,coords,img_filter,who=[],clean=False)\n",
    "  \n",
    "  Will apply the scale to normalize the comparison stars and save them for late use in flux conversion. \n",
    "  - **outdir**: *str* instance\\\n",
    "     Where all files produces will be stored.\n",
    "  - **coords**: The AGN, and comparison star RA,DEC given as a list/array\n",
    "  - **img_filter**: *str* instance\\\n",
    "    Image filter where the stars will be normalized.\n",
    "  - **who**: *array_like* instance, optional\\\n",
    "    For use if only speicific telescopes are to have their stars normalized (to avoid repetition).\n",
    "  - **cutoff**: *float* instance\\\n",
    "    A standard deviation cutoff for the **normalized** stars, the default is set to 3$\\sigma$.\n",
    "  - **cut**: *Boolean* instance\\\n",
    "    Whether to perform the sigma cutoff on the normalized stars.\n",
    "  \n",
    "- **plot_normed**(outdir,img_filter,coords,cdict={},mpc={},who=[])\n",
    "\n",
    "  A comparison plot of the raw comparison stars and normalized comparison stars. \n",
    "  - **outdir**: *str* instance\\\n",
    "    Where all files produces will be stored.\n",
    "  - **img_filter**: *str* instance\\\n",
    "    Image filter to plot.\n",
    "  - **coords**: *array_like* instance\\\n",
    "    The AGN, and comparison star RA,DEC given as a list/array\n",
    "  - **cdict**: *dictionary* instance\\\n",
    "    A dictionary for the telescopes and the colors you would like them to correspond to.\n",
    "  - **mpc**: *dictionary* instance\\\n",
    "    Minor planet center dictionary.\n",
    "  - **who**: *array_like* instance\\\n",
    "    For use if only specific telescopes should be plotted. \n",
    "  \n",
    "\n",
    "  \n",
    "- **true_mag_retrieve**(outdir,tar=None,mags=None,who=None, mags_tags=None,feedback=False,f_to=[])\n",
    "  \n",
    "  Performs the flux conversion from counts to cgs units by using the normalized comparison stars. Using the comparison stars true magnitudes, the function finds the average scale factor for the flux conversion with a sigma clipped values. \n",
    "  - **outdir**: *str* instance\\\n",
    "    Where all files produces will be stored.\n",
    "  - **who**: *array_like* instance, optional\\\n",
    "  \n",
    "  - **mags_tags**: *array_like* instance\\\n",
    "  \n",
    "  - **feedback**: *Boolean* instance, optional\\\n",
    "  \n",
    "  - **f_to**: *array_like* instance, optional\\\n",
    "  \n",
    "- **plot_cgs**(cdict={},whoo=None,outdir=None,mpc={},who=[],f_to=[],multi=True,single=False)\n",
    "\n",
    "  Plots the flux converted AGN light curves in a multi plot. \n",
    "  - **cdict**: *dictionary* instance\\\n",
    "  \n",
    "  - **target_name**: *str* instance\\\n",
    "  \n",
    "  - **outdir**: *str* instance\\\n",
    "    Where all files produces will be stored.\n",
    "  - **mpc**: *dictionary* instance\\\n",
    "  \n",
    "  - **who**: *array_like* instance, optional\\\n",
    "  \n",
    "  - **f_to**: *array_like* instance, optional\\\n",
    "  \n",
    "  - **multi**: *Boolean* instance, optional\\\n",
    "  \n",
    "  - **single**: *Boolean* instance, optional\\\n",
    "  \n",
    "    \n",
    "- **error_ratio**(outdir,coords,img_filter)\n",
    "\n",
    "- **plot_multicali**(tn,cdict,avg=False)\n",
    "\n",
    "- **plot_cali**(tn,cdict,calidir,filters=[])\n",
    "\n",
    "- **pycali_run**(filt='g', run=1, outdir='')\n",
    "\n",
    "- **produce_clean**()\n",
    "  "
   ]
  },
  {
   "cell_type": "markdown",
   "id": "indian-norfolk",
   "metadata": {},
   "source": [
    "# Example: Mrk 817"
   ]
  },
  {
   "cell_type": "markdown",
   "id": "rational-europe",
   "metadata": {},
   "source": [
    "First you'll want to start with a directory to pull from and out directory to output and other things we can outright define (**supply zip file**)"
   ]
  },
  {
   "cell_type": "code",
   "execution_count": null,
   "id": "accessible-hydrogen",
   "metadata": {},
   "outputs": [],
   "source": [
    "# Input the directory where your images are stored\n",
    "directory = '/home/korbinite5646/AGN_home/FITS/'\n",
    "# Here you should input a directory where the photometry will be stored along with the other data products\n",
    "# I would suggest making a seperate directory\n",
    "outdirectory = '/home/korbinite5646/AGN_home/MRK817/notebook/'\n",
    "AGN_name = 'Mrk817'\n",
    "img_filter = 'g'"
   ]
  },
  {
   "cell_type": "markdown",
   "id": "anonymous-arnold",
   "metadata": {},
   "source": [
    "You'll also need to go through the images and get comparison stars. You may find the AGN's RA, DEC through things like SIMBAD. Generally you will want > 5 comparison stars for good statistics. Note that the first set of RA DEC you give is the AGN!"
   ]
  },
  {
   "cell_type": "code",
   "execution_count": null,
   "id": "accepting-college",
   "metadata": {
    "ExecuteTime": {
     "end_time": "2022-07-06T21:36:52.838137Z",
     "start_time": "2022-07-06T21:36:52.835921Z"
    }
   },
   "outputs": [],
   "source": [
    "coords = [ [219.09200836,58.7942765], [219.1357,58.83312] , [219.17719,58.84183] , [219.150785,58.766423] ,[218.6666,58.63422]  , [219.009178,58.875326], [219.077094,58.677452], [219.05994,58.666196]]"
   ]
  },
  {
   "cell_type": "markdown",
   "id": "dynamic-lucas",
   "metadata": {},
   "source": [
    "Another thing to keep create are the MPC code dictionaries and your given plot color dictionary. You'll only have to define this once and you can freely add telescopes to it as your project progresses."
   ]
  },
  {
   "cell_type": "code",
   "execution_count": null,
   "id": "limited-terror",
   "metadata": {
    "ExecuteTime": {
     "end_time": "2022-07-06T21:36:54.426964Z",
     "start_time": "2022-07-06T21:36:54.424029Z"
    }
   },
   "outputs": [],
   "source": [
    "cdict = { 'zowada': 'blue', 'F65': 'saddlebrown', 'V39': 'darkorange', 'V37': 'darkgreen', 'W85': 'orchid', 'W85': 'indigo', 'W87': 'indianred', 'K93': 'olive', 'K91': 'darkorange', 'K92': 'y', 'Q63': 'sienna', 'Q64': 'chocolate','WISE': 'lightblue', 'liverpool': 'red'}\n",
    "MPC ={'ogg-clma-2m0a': 'F65', 'ogg-clma-0m4b': 'T04', 'ogg-clma-0m4c': 'T03', 'elp-doma-1m0a': 'V37', 'elp-domb-1m0a': 'V39', 'elp-aqwa-0m4a': 'V38', 'lsc-doma-1m0a': 'W85', 'lsc-domb-1m0a': 'W86', 'lsc-domc-1m0a': 'W87', 'lsc-aqwa-0m4a': 'W89', 'lsc-aqwb-0m4a': 'W79', 'cpt-doma-1m0a': 'K91', 'cpt-domb-1m0a': 'K92', 'cpt-domc-1m0a': 'K93', 'cpt-aqwa-0m4a': 'L09', 'coj-clma-0m4a': 'Q58', 'coj-clma-0m4b': 'Q59', 'coj-doma-1m0a': 'Q63', 'coj-domb-1m0a': 'Q64', 'coj-clma-2m0a': 'E10','zowada':'zowada'}"
   ]
  },
  {
   "cell_type": "markdown",
   "id": "reported-cambodia",
   "metadata": {},
   "source": [
    "We have everything to run the first step of photometry code! Note that this is from Las Cumbres Observatory, which is a network of telescopes, but their headers are uniform. So, calling telname 'lco' it will search the header for the relevant parameters, hence not giving rdnoise, pixsc or gain."
   ]
  },
  {
   "cell_type": "code",
   "execution_count": null,
   "id": "proved-outline",
   "metadata": {},
   "outputs": [],
   "source": [
    "warnings.filterwarnings('ignore')"
   ]
  },
  {
   "cell_type": "code",
   "execution_count": null,
   "id": "defined-struggle",
   "metadata": {
    "scrolled": true
   },
   "outputs": [],
   "source": [
    "phot(directory=directory,\n",
    "    outdir=outdirectory,\n",
    "    coords=coords,\n",
    "    img_filter=img_filter,\n",
    "    target_name=AGN_name,\n",
    "    telname='lco'\n",
    "    )"
   ]
  },
  {
   "cell_type": "markdown",
   "id": "asian-asset",
   "metadata": {},
   "source": [
    "Now we have photometry done on one telescope and you should be able to see csv files of it in your directory! Well what if we want to do a bunch of filters, since this is made for multi-wavelenght campaigns, and a bunch of different telescopes. We can work this out with just some bit of code."
   ]
  },
  {
   "cell_type": "code",
   "execution_count": null,
   "id": "official-kitchen",
   "metadata": {
    "scrolled": true
   },
   "outputs": [],
   "source": [
    "# The LCO images that we have come in ugriz and BV. Lets start with a list of the filters we'll use.\n",
    "img_filters = ['B','g','r']\n",
    "# The directory where the images will be found\n",
    "directory = ''\n",
    "\n",
    "# with that we can loop through the filters to do all that photometry, depending on how many images you're working with this may take a few minutes. \n",
    "for img_f in img_filters:\n",
    "    phot(directory=directory+'/'+img_f,\n",
    "        outdir=outdirectory,\n",
    "        coords=coords,\n",
    "        img_filter=img_f,\n",
    "        telname='lco'\n",
    "        )"
   ]
  },
  {
   "cell_type": "markdown",
   "id": "oriental-warrior",
   "metadata": {},
   "source": [
    "Go ahead and take a look at your output directory it should look something like this now...\n",
    "\n",
    "*image here*\n",
    "\n",
    "And below is what the tables for the photometry output looks like"
   ]
  },
  {
   "cell_type": "code",
   "execution_count": null,
   "id": "federal-passage",
   "metadata": {},
   "outputs": [],
   "source": [
    "# open csv file with pandas\n",
    "df = pd.read_csv()\n",
    "print(df)"
   ]
  },
  {
   "cell_type": "markdown",
   "id": "manual-world",
   "metadata": {},
   "source": [
    "Let's repeat the above step, but now for a different telescope. The snippet of code is the same, except for the parameters."
   ]
  },
  {
   "cell_type": "code",
   "execution_count": null,
   "id": "clinical-person",
   "metadata": {},
   "outputs": [],
   "source": [
    "zowada_filters = ['g','r']\n",
    "directory = ''\n",
    "for z in zowada_filters:\n",
    "    phot(directory=directory+'/'+z,\n",
    "        outdir=outdirectory,\n",
    "        coords=coords,\n",
    "        img_filter=z,\n",
    "        telname='zowada',\n",
    "        rdnoise=8.0,\n",
    "        pixsc=0.882,\n",
    "        gain=0.476)"
   ]
  },
  {
   "cell_type": "markdown",
   "id": "final-classroom",
   "metadata": {},
   "source": [
    "At this point we have enough to start creating light curves. First we'll have to take all the csv's that have been created and format them. This will take all the telescopes that you have run phot() on and put them into one."
   ]
  },
  {
   "cell_type": "code",
   "execution_count": null,
   "id": "living-retreat",
   "metadata": {},
   "outputs": [],
   "source": [
    "# I'll be calling it on just the g band\n",
    "phot_to_one(outdir=outdirectory,\n",
    "           img_filter='g',\n",
    "           coords=coords,\n",
    "           mpc=MPC);"
   ]
  },
  {
   "cell_type": "markdown",
   "id": "elect-narrative",
   "metadata": {},
   "source": [
    "A chunkier step is the chi square minimization of the comparison stars. With a set of comparison stars we'll use \n",
    "\n",
    "$$\\chi^2 = \\Sigma_n\\Sigma_i \\frac{(f(n)F(n)-\\bar{F(i)})^2}{f(n)\\epsilon^2}$$\n",
    "\n",
    "Where n is the number of images/nights and i is the number of comparison stars. Minimizing this function with free parameter f(n) will give us scale factors for each night to correct for the varying conditions. This in turn will be applied to the AGN's light curve."
   ]
  },
  {
   "cell_type": "code",
   "execution_count": null,
   "id": "intimate-brass",
   "metadata": {},
   "outputs": [],
   "source": [
    "fit(outdir=outdirectory,\n",
    "   coords=coords,\n",
    "   img_filter='g'\n",
    "   );"
   ]
  },
  {
   "cell_type": "markdown",
   "id": "relative-recording",
   "metadata": {},
   "source": [
    "Next we apply the scale factor to the stars, because it will be used later in the flux conversion."
   ]
  },
  {
   "cell_type": "code",
   "execution_count": null,
   "id": "insured-shaft",
   "metadata": {
    "scrolled": true
   },
   "outputs": [],
   "source": [
    "star_norm(outdir=outdirectory,\n",
    "         coords=coords,\n",
    "         img_filter='g'\n",
    "         );"
   ]
  },
  {
   "cell_type": "markdown",
   "id": "handmade-salem",
   "metadata": {},
   "source": [
    "Let's visually check how the fitting worked out, what you are looking for are relatively flat plots with scatter. If you notice anything anomalous then it would be a good idea to look at the images. In this case take a look at the csv files as they have attached file names to the HJD dates."
   ]
  },
  {
   "cell_type": "code",
   "execution_count": null,
   "id": "occupied-moment",
   "metadata": {
    "scrolled": true
   },
   "outputs": [],
   "source": [
    "normed_plots(outdir=outdirectory,\n",
    "            img_filter='g',\n",
    "            coords=coords,\n",
    "            cdict=cdict,\n",
    "            mpc=MPC,\n",
    "            )"
   ]
  },
  {
   "cell_type": "markdown",
   "id": "revolutionary-vacation",
   "metadata": {},
   "source": [
    "Nothing seems unusual in the comparison star light curves, and we see some expected scatter as we aren't going for a perfect fit. "
   ]
  },
  {
   "cell_type": "markdown",
   "id": "universal-silicon",
   "metadata": {},
   "source": [
    "We can work on the AGN now itself. First we'll apply the scale and save that data, and afterwards plot the lightcurves per telescope. The scale_plot() function will plot the individual telescopes. In the process of making the lightcuve tables there are some rows we can clean up, calling clean_lc() will get rid of any bad values (NaN, inf, etc.) and sort it with HJD descending."
   ]
  },
  {
   "cell_type": "code",
   "execution_count": null,
   "id": "curious-adelaide",
   "metadata": {
    "scrolled": false
   },
   "outputs": [],
   "source": [
    "scale_plot(outdir=outdirectory,\n",
    "          coords=coords,\n",
    "          img_filter='g',\n",
    "          target_name=AGN_name,\n",
    "          cdict=cdict,\n",
    "          mpc=MPC)\n",
    "clean_lc(outdir=outdirectory,\n",
    "        img_filter='g')"
   ]
  },
  {
   "cell_type": "markdown",
   "id": "genuine-indianapolis",
   "metadata": {},
   "source": [
    "While we have them individually you also have the option to over lay them over each other. They aren't on the same flux scales, so they are brought close by some factor of the flux means according to a reference telescopes."
   ]
  },
  {
   "cell_type": "code",
   "execution_count": null,
   "id": "numerous-bicycle",
   "metadata": {
    "scrolled": false
   },
   "outputs": [],
   "source": [
    "dumb_align(outdir=outdirectory,\n",
    "           img_filter='g',\n",
    "           coords=coords,\n",
    "           target_name=AGN_name,\n",
    "           reference='V37',\n",
    "           cdict=cdict)"
   ]
  },
  {
   "cell_type": "markdown",
   "id": "deluxe-carol",
   "metadata": {},
   "source": [
    "It looks like the photometry is doing well and the general shapes of the light curves are agreeing."
   ]
  },
  {
   "cell_type": "markdown",
   "id": "worse-spirituality",
   "metadata": {},
   "source": [
    "The flux conversion step takes the normalized comparison stars and their true magnitudes in various filters to find an average scale factor that will appropiately give us flux wavelength units. After that we'll plot the physical units lightcurves, the light curves should be fairly near each other. If you find that one of the telescopes is not close then double check the magnitudes you put in for your comparison stars."
   ]
  },
  {
   "cell_type": "code",
   "execution_count": null,
   "id": "relevant-worth",
   "metadata": {},
   "outputs": [],
   "source": [
    "true_mag_retrieve(outdir=outdirectory,who='Mrk817',f_to=['g'])\n",
    "# no print statements or plots are produced here - should add in print statements to let user know what has been done "
   ]
  },
  {
   "cell_type": "code",
   "execution_count": null,
   "id": "ambient-oliver",
   "metadata": {
    "scrolled": false
   },
   "outputs": [],
   "source": [
    "cgs_plot(cdict=cdict,outdir=outdirectory,mpc=MPC,f_to=['g'],whoo=AGN_name,single=True)"
   ]
  },
  {
   "cell_type": "markdown",
   "id": "veterinary-geology",
   "metadata": {},
   "source": [
    "Generally telescopes take multiple images per night, so we have the option to create a weighted average light curve within some $\\Delta t$. "
   ]
  },
  {
   "cell_type": "code",
   "execution_count": null,
   "id": "bearing-knowing",
   "metadata": {},
   "outputs": [],
   "source": [
    "condense(outdirectory,'g')"
   ]
  },
  {
   "cell_type": "code",
   "execution_count": null,
   "id": "hybrid-parking",
   "metadata": {},
   "outputs": [],
   "source": [
    "# Need to allow for single plots again\n",
    "plot_condense(outdirectory,'g',AGN_name,cdict,MPC)"
   ]
  },
  {
   "cell_type": "markdown",
   "id": "forward-winner",
   "metadata": {},
   "source": [
    "Close to our last steps now - all that is left to do is feed the light curves to Pycali, which requires a specific format. We do that by using cali_format(), you have a choice to pick a reference telescope for a filter, generally you want to pick the light curve that spans date range well and is fairly good quality. Within the example we're doing the LCO telescopes V37 spans the largest range and has low uncertainties. "
   ]
  },
  {
   "cell_type": "code",
   "execution_count": null,
   "id": "spread-moisture",
   "metadata": {},
   "outputs": [],
   "source": [
    "# Need to fix it to allow for non averaged\n",
    "cali_format(outdirectory,'g',AGN_name)"
   ]
  },
  {
   "cell_type": "markdown",
   "id": "selective-speaking",
   "metadata": {
    "heading_collapsed": true
   },
   "source": [
    "# Template Code"
   ]
  },
  {
   "cell_type": "code",
   "execution_count": null,
   "id": "danish-myanmar",
   "metadata": {
    "hidden": true
   },
   "outputs": [],
   "source": [
    "coords = \n",
    "target_name = \n",
    "outdir = \n",
    "\n",
    "cdict = {}\n",
    "MPC = {}"
   ]
  },
  {
   "cell_type": "code",
   "execution_count": null,
   "id": "clinical-relative",
   "metadata": {
    "hidden": true
   },
   "outputs": [],
   "source": [
    "a_filters = []\n",
    "a_direc = ''\n",
    "for a_f in a_filters:\n",
    "    phot(a_direc+a_f,\n",
    "         outdir,\n",
    "         coords=coords,\n",
    "         img_filter=a_f,\n",
    "         target_name=target_name,\n",
    "         telname='a_tel',\n",
    "         cutoff=10.)"
   ]
  },
  {
   "cell_type": "code",
   "execution_count": null,
   "id": "understanding-momentum",
   "metadata": {
    "hidden": true
   },
   "outputs": [],
   "source": []
  },
  {
   "cell_type": "code",
   "execution_count": null,
   "id": "crucial-munich",
   "metadata": {
    "hidden": true
   },
   "outputs": [],
   "source": [
    "b_filters = []\n",
    "b_direc = ''\n",
    "for b_f in b_filters:\n",
    "    phot(b_direc+b_f,\n",
    "         outdir,\n",
    "         coords=coords,\n",
    "         img_filter=b_f,\n",
    "         target_name=target_name,\n",
    "         telname='b_tel',\n",
    "         cutoff=10.)"
   ]
  },
  {
   "cell_type": "code",
   "execution_count": null,
   "id": "determined-point",
   "metadata": {
    "hidden": true
   },
   "outputs": [],
   "source": [
    "c_filters = []\n",
    "c_direc = ''\n",
    "for c_f in c_filters:\n",
    "    phot(c_direc+c_f,\n",
    "         outdir,\n",
    "         coords=coords,\n",
    "         img_filter=c_f,\n",
    "         target_name=target_name,\n",
    "         telname='c_tel',\n",
    "         cutoff=10.)"
   ]
  },
  {
   "cell_type": "code",
   "execution_count": null,
   "id": "pretty-allen",
   "metadata": {
    "hidden": true
   },
   "outputs": [],
   "source": [
    "img_filters = []\n",
    "for img_filter in img_filters:\n",
    "    phot_to_one(outdir, img_filter=img_filter, coords=coords, mpc=MPC)\n",
    "    fit(outdir,coords,img_filter)\n",
    "    star_norm()\n",
    "    normed_plots()\n",
    "    scale_plot()\n",
    "    clean_lc()\n",
    "    dumb_align()"
   ]
  },
  {
   "cell_type": "code",
   "execution_count": null,
   "id": "latter-cleveland",
   "metadata": {
    "hidden": true
   },
   "outputs": [],
   "source": [
    "true_mag_retrieve()"
   ]
  },
  {
   "cell_type": "code",
   "execution_count": null,
   "id": "derived-subscription",
   "metadata": {
    "hidden": true
   },
   "outputs": [],
   "source": [
    "cgs_plot()"
   ]
  },
  {
   "cell_type": "code",
   "execution_count": null,
   "id": "pharmaceutical-incidence",
   "metadata": {
    "hidden": true
   },
   "outputs": [],
   "source": [
    "for img_filter in img_filters:\n",
    "    condense()\n",
    "    plot_condense()"
   ]
  },
  {
   "cell_type": "code",
   "execution_count": null,
   "id": "thrown-vault",
   "metadata": {
    "hidden": true
   },
   "outputs": [],
   "source": [
    "cali_format()"
   ]
  },
  {
   "cell_type": "markdown",
   "id": "following-teens",
   "metadata": {},
   "source": [
    "# Diagnostics\n",
    "\n",
    "What to do when the code isn't working or something does not look right. There are multiple optional parameters in the functions called made for this reason we'll explore each one to see what they tell us."
   ]
  },
  {
   "cell_type": "markdown",
   "id": "valuable-stranger",
   "metadata": {},
   "source": [
    "## Photometry - Image and Annulus Histograms\n",
    "\n",
    "The phot() function has two optional diagnostics, the first being an image histogram, and then the annulus' histogram. To enable either of them your call should look like this\n",
    "\n",
    "``` Python\n",
    "phot(img_hist=True,sky_hist=True)\n",
    "```\n",
    "\n",
    "Down below we'll run it on some different telescopes."
   ]
  },
  {
   "cell_type": "code",
   "execution_count": null,
   "id": "improving-singapore",
   "metadata": {
    "scrolled": false
   },
   "outputs": [],
   "source": [
    "phot('E:/AGN_central/mrk817/notebook',outdir=outdirectory,img_filter='g',img_hist=True,coords=coords,telname='lco')\n",
    "\n",
    "# add image title!"
   ]
  },
  {
   "cell_type": "markdown",
   "id": "adverse-halifax",
   "metadata": {},
   "source": [
    "When sky_hist is run it will create a sky annulus histogram for each coordinate pair given."
   ]
  },
  {
   "cell_type": "code",
   "execution_count": null,
   "id": "distributed-roommate",
   "metadata": {
    "scrolled": false
   },
   "outputs": [],
   "source": [
    "# add coords and image title!\n",
    "phot('E:/AGN_central/mrk817/notebook',outdir=outdirectory,img_filter='g',sky_hist=True,coords=coords,telname='lco')"
   ]
  },
  {
   "cell_type": "code",
   "execution_count": null,
   "id": "monthly-credits",
   "metadata": {},
   "outputs": [],
   "source": [
    "# excess variance?"
   ]
  },
  {
   "cell_type": "code",
   "execution_count": null,
   "id": "lesser-catch",
   "metadata": {},
   "outputs": [],
   "source": [
    "# true mag thing"
   ]
  },
  {
   "cell_type": "code",
   "execution_count": null,
   "id": "standing-volunteer",
   "metadata": {},
   "outputs": [],
   "source": []
  }
 ],
 "metadata": {
  "kernelspec": {
   "display_name": "Python 3",
   "language": "python",
   "name": "python3"
  },
  "language_info": {
   "codemirror_mode": {
    "name": "ipython",
    "version": 3
   },
   "file_extension": ".py",
   "mimetype": "text/x-python",
   "name": "python",
   "nbconvert_exporter": "python",
   "pygments_lexer": "ipython3",
   "version": "3.8.8"
  },
  "toc": {
   "base_numbering": 1,
   "nav_menu": {},
   "number_sections": true,
   "sideBar": true,
   "skip_h1_title": false,
   "title_cell": "Table of Contents",
   "title_sidebar": "Contents",
   "toc_cell": false,
   "toc_position": {
    "height": "calc(100% - 180px)",
    "left": "10px",
    "top": "150px",
    "width": "229px"
   },
   "toc_section_display": true,
   "toc_window_display": true
  },
  "varInspector": {
   "cols": {
    "lenName": 16,
    "lenType": 16,
    "lenVar": 40
   },
   "kernels_config": {
    "python": {
     "delete_cmd_postfix": "",
     "delete_cmd_prefix": "del ",
     "library": "var_list.py",
     "varRefreshCmd": "print(var_dic_list())"
    },
    "r": {
     "delete_cmd_postfix": ") ",
     "delete_cmd_prefix": "rm(",
     "library": "var_list.r",
     "varRefreshCmd": "cat(var_dic_list()) "
    }
   },
   "types_to_exclude": [
    "module",
    "function",
    "builtin_function_or_method",
    "instance",
    "_Feature"
   ],
   "window_display": false
  }
 },
 "nbformat": 4,
 "nbformat_minor": 5
}
